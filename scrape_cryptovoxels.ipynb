{
 "cells": [
  {
   "cell_type": "code",
   "execution_count": 1,
   "metadata": {
    "ExecuteTime": {
     "end_time": "2020-11-08T18:56:44.535284Z",
     "start_time": "2020-11-08T18:56:44.531030Z"
    }
   },
   "outputs": [],
   "source": [
    "num_parcels = 4089 # total parcels in the world - manually fetched from here https://www.cryptovoxels.com/parcels, maybe automate this later?"
   ]
  },
  {
   "cell_type": "code",
   "execution_count": 2,
   "metadata": {
    "ExecuteTime": {
     "end_time": "2020-11-08T18:56:46.457060Z",
     "start_time": "2020-11-08T18:56:45.613138Z"
    }
   },
   "outputs": [],
   "source": [
    "import os\n",
    "import json\n",
    "import datetime\n",
    "import pandas as pd"
   ]
  },
  {
   "cell_type": "code",
   "execution_count": 3,
   "metadata": {
    "ExecuteTime": {
     "end_time": "2020-11-08T18:56:47.896113Z",
     "start_time": "2020-11-08T18:56:47.741288Z"
    }
   },
   "outputs": [],
   "source": [
    "import time\n",
    "from selenium.webdriver import Chrome\n",
    "from selenium.webdriver.common.by import By"
   ]
  },
  {
   "cell_type": "code",
   "execution_count": 83,
   "metadata": {
    "ExecuteTime": {
     "end_time": "2020-11-09T07:57:29.484791Z",
     "start_time": "2020-11-09T07:57:29.480799Z"
    }
   },
   "outputs": [],
   "source": [
    "if not os.path.exists(\"results\"):\n",
    "    os.makedirs(\"results\")"
   ]
  },
  {
   "cell_type": "code",
   "execution_count": 4,
   "metadata": {
    "ExecuteTime": {
     "end_time": "2020-11-08T18:56:48.338450Z",
     "start_time": "2020-11-08T18:56:48.332991Z"
    }
   },
   "outputs": [],
   "source": [
    "def check_page_loaded_else_sleep():\n",
    "    try:\n",
    "        el = browser.find_element(By.XPATH, '/html/body/div/section[1]/div/h1')\n",
    "    except:\n",
    "        print(\"page not loaded - sleeping 15 s\")\n",
    "        time.sleep(15)"
   ]
  },
  {
   "cell_type": "code",
   "execution_count": null,
   "metadata": {
    "ExecuteTime": {
     "end_time": "2020-11-08T23:29:58.020141Z",
     "start_time": "2020-11-08T20:57:04.490952Z"
    }
   },
   "outputs": [],
   "source": [
    "# init browser\n",
    "browser = Chrome(executable_path='/usr/local/bin/chromedriver')\n",
    "\n",
    "for parcel_id in range(1, num_parcels):\n",
    "    \n",
    "    if not os.path.exists('results/' + str(parcel_id) + '.json'):\n",
    "    \n",
    "        print(f\"{datetime.datetime.now()} Downloading data for parcel #{parcel_id}\")\n",
    "\n",
    "        try:\n",
    "\n",
    "            # load page\n",
    "            browser.get('https://www.cryptovoxels.com/parcels/' + str(parcel_id))\n",
    "            time.sleep(5)\n",
    "\n",
    "            # check if page already loaded, else wait longer\n",
    "            check_page_loaded_else_sleep()\n",
    "            check_page_loaded_else_sleep()\n",
    "            check_page_loaded_else_sleep()\n",
    "\n",
    "            # compute check to determine how to pull data from page\n",
    "            el = browser.find_element(By.XPATH, '/html/body/div/section[2]/div/div[1]/dl/dt[10]')\n",
    "            check = el.text\n",
    "\n",
    "            # compute check to determine how to pull data from page\n",
    "            if check == 'Volume':\n",
    "                el = browser.find_element(By.XPATH, '/html/body/div/section[2]/div/div[1]/dl/dt[5]')\n",
    "                if el.text == 'Location':\n",
    "                    check = 'Location'\n",
    "\n",
    "            # check for description\n",
    "            description = \"\"\n",
    "            try:\n",
    "                el = browser.find_element(By.XPATH, '/html/body/div/section[2]/div/div[1]/div[1]/div/p')\n",
    "                description = el.text\n",
    "            except:\n",
    "                pass\n",
    "\n",
    "            # get data from page\n",
    "            if check == \"Area\":\n",
    "\n",
    "                el = browser.find_element(By.XPATH, '/html/body/div/section[2]/div/div[1]/dl/dd[1]')\n",
    "                address = el.text\n",
    "\n",
    "                el = browser.find_element(By.XPATH, '/html/body/div/section[2]/div/div[1]/dl/dd[2]')\n",
    "                visits = el.text\n",
    "\n",
    "                el = browser.find_element(By.XPATH, '/html/body/div/section[2]/div/div[1]/dl/dd[5]')\n",
    "                neighbourhood = el.text\n",
    "\n",
    "                el = browser.find_element(By.XPATH, '/html/body/div/section[2]/div/div[1]/dl/dd[6]')\n",
    "                location = el.text\n",
    "\n",
    "                el = browser.find_element(By.XPATH, '/html/body/div/section[2]/div/div[1]/dl/dd[7]')\n",
    "                size = el.text\n",
    "\n",
    "                el = browser.find_element(By.XPATH, '/html/body/div/section[2]/div/div[1]/dl/dd[8]')\n",
    "                build_height = el.text\n",
    "\n",
    "                el = browser.find_element(By.XPATH, '/html/body/div/section[2]/div/div[1]/dl/dd[9]')\n",
    "                elevation = el.text\n",
    "\n",
    "                el = browser.find_element(By.XPATH, '/html/body/div/section[2]/div/div[1]/dl/dd[10]')\n",
    "                area = el.text\n",
    "\n",
    "                el = browser.find_element(By.XPATH, '/html/body/div/section[2]/div/div[1]/dl/dd[11]')\n",
    "                volume = el.text\n",
    "\n",
    "            elif check=='Volume':\n",
    "\n",
    "                el = browser.find_element(By.XPATH, '/html/body/div/section[2]/div/div[1]/dl/dd[1]')\n",
    "                address = el.text\n",
    "\n",
    "                el = browser.find_element(By.XPATH, '/html/body/div/section[2]/div/div[1]/dl/dd[2]')\n",
    "                visits = el.text\n",
    "\n",
    "                el = browser.find_element(By.XPATH, '/html/body/div/section[2]/div/div[1]/dl/dd[4]')\n",
    "                neighbourhood = el.text\n",
    "\n",
    "                el = browser.find_element(By.XPATH, '/html/body/div/section[2]/div/div[1]/dl/dd[5]')\n",
    "                location = el.text\n",
    "\n",
    "                el = browser.find_element(By.XPATH, '/html/body/div/section[2]/div/div[1]/dl/dd[6]')\n",
    "                size = el.text\n",
    "\n",
    "                el = browser.find_element(By.XPATH, '/html/body/div/section[2]/div/div[1]/dl/dd[7]')\n",
    "                build_height = el.text\n",
    "\n",
    "                el = browser.find_element(By.XPATH, '/html/body/div/section[2]/div/div[1]/dl/dd[8]')\n",
    "                elevation = el.text\n",
    "\n",
    "                el = browser.find_element(By.XPATH, '/html/body/div/section[2]/div/div[1]/dl/dd[9]')\n",
    "                area = el.text\n",
    "\n",
    "                el = browser.find_element(By.XPATH, '/html/body/div/section[2]/div/div[1]/dl/dd[10]')\n",
    "                volume = el.text\n",
    "\n",
    "            elif check == 'Location':\n",
    "\n",
    "                el = browser.find_element(By.XPATH, '/html/body/div/section[2]/div/div[1]/dl/dd[1]')\n",
    "                address = el.text\n",
    "\n",
    "                el = browser.find_element(By.XPATH, '/html/body/div/section[2]/div/div[1]/dl/dd[2]')\n",
    "                visits = el.text\n",
    "\n",
    "                neighbourhood = 'NA'\n",
    "\n",
    "                el = browser.find_element(By.XPATH, '/html/body/div/section[2]/div/div[1]/dl/dd[5]')\n",
    "                location = el.text\n",
    "\n",
    "                el = browser.find_element(By.XPATH, '/html/body/div/section[2]/div/div[1]/dl/dd[6]')\n",
    "                size = el.text\n",
    "\n",
    "                el = browser.find_element(By.XPATH, '/html/body/div/section[2]/div/div[1]/dl/dd[7]')\n",
    "                build_height = el.text\n",
    "\n",
    "                el = browser.find_element(By.XPATH, '/html/body/div/section[2]/div/div[1]/dl/dd[8]')\n",
    "                elevation = el.text\n",
    "\n",
    "                el = browser.find_element(By.XPATH, '/html/body/div/section[2]/div/div[1]/dl/dd[9]')\n",
    "                area = el.text\n",
    "\n",
    "                el = browser.find_element(By.XPATH, '/html/body/div/section[2]/div/div[1]/dl/dd[10]')\n",
    "                volume = el.text\n",
    "\n",
    "            # parse volume\n",
    "            volume = int(volume.split(\" voxels\")[0])\n",
    "\n",
    "            # parse area\n",
    "            area = int(area.split(\" square meters\")[0])\n",
    "\n",
    "            # parse build_height\n",
    "            build_height = int(build_height.split(\" meters\")[0])\n",
    "\n",
    "            # parse visits\n",
    "            visits = int(visits.split(\" \")[0])\n",
    "\n",
    "            # build result\n",
    "            result = {}\n",
    "            result['id'] = parcel_id\n",
    "            result['description'] = description\n",
    "            result['address'] = address\n",
    "            result['neighbourhood'] = neighbourhood\n",
    "            result['visits'] = visits\n",
    "            result['location'] = location\n",
    "            result['size'] = size\n",
    "            result['area'] = area\n",
    "            result['build_height'] = build_height\n",
    "            result['elevation'] = elevation\n",
    "            result['volume'] = volume\n",
    "\n",
    "            # save result\n",
    "            with open('results/' + str(parcel_id) + '.json', 'w') as f:\n",
    "                json.dump(result, f)\n",
    "\n",
    "            print(result)\n",
    "            \n",
    "        except Exception as e:\n",
    "            print(\"ERROR\")\n",
    "            print(e)\n",
    "            pass"
   ]
  }
 ],
 "metadata": {
  "kernelspec": {
   "display_name": "Python 3",
   "language": "python",
   "name": "python3"
  },
  "language_info": {
   "codemirror_mode": {
    "name": "ipython",
    "version": 3
   },
   "file_extension": ".py",
   "mimetype": "text/x-python",
   "name": "python",
   "nbconvert_exporter": "python",
   "pygments_lexer": "ipython3",
   "version": "3.7.7"
  },
  "varInspector": {
   "cols": {
    "lenName": 16,
    "lenType": 16,
    "lenVar": 40
   },
   "kernels_config": {
    "python": {
     "delete_cmd_postfix": "",
     "delete_cmd_prefix": "del ",
     "library": "var_list.py",
     "varRefreshCmd": "print(var_dic_list())"
    },
    "r": {
     "delete_cmd_postfix": ") ",
     "delete_cmd_prefix": "rm(",
     "library": "var_list.r",
     "varRefreshCmd": "cat(var_dic_list()) "
    }
   },
   "types_to_exclude": [
    "module",
    "function",
    "builtin_function_or_method",
    "instance",
    "_Feature"
   ],
   "window_display": false
  }
 },
 "nbformat": 4,
 "nbformat_minor": 4
}

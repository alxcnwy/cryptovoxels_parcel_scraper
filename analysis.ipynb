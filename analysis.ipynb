{
 "cells": [
  {
   "cell_type": "markdown",
   "metadata": {},
   "source": [
    "# Load and parse data"
   ]
  },
  {
   "cell_type": "code",
   "execution_count": 12,
   "metadata": {
    "ExecuteTime": {
     "end_time": "2020-11-09T09:06:00.531401Z",
     "start_time": "2020-11-09T09:06:00.527448Z"
    }
   },
   "outputs": [],
   "source": [
    "import os\n",
    "import pandas as pd\n",
    "import json\n",
    "import matplotlib.pyplot as plt\n",
    "import seaborn as sns\n",
    "from string import digits\n",
    "import datetime"
   ]
  },
  {
   "cell_type": "markdown",
   "metadata": {},
   "source": [
    "## Load data"
   ]
  },
  {
   "cell_type": "code",
   "execution_count": 13,
   "metadata": {
    "ExecuteTime": {
     "end_time": "2020-11-09T09:06:00.548329Z",
     "start_time": "2020-11-09T09:06:00.536952Z"
    }
   },
   "outputs": [],
   "source": [
    "files = os.listdir('results')\n",
    "files = ['results/' + f for f in files if '.json' in f]"
   ]
  },
  {
   "cell_type": "code",
   "execution_count": 14,
   "metadata": {
    "ExecuteTime": {
     "end_time": "2020-11-09T09:06:00.971867Z",
     "start_time": "2020-11-09T09:06:00.551599Z"
    }
   },
   "outputs": [],
   "source": [
    "results = []\n",
    "for file in files:\n",
    "    with open(file) as f:\n",
    "        res = json.load(f)\n",
    "        results.append(res)"
   ]
  },
  {
   "cell_type": "code",
   "execution_count": 15,
   "metadata": {
    "ExecuteTime": {
     "end_time": "2020-11-09T09:06:00.996806Z",
     "start_time": "2020-11-09T09:06:00.974707Z"
    }
   },
   "outputs": [],
   "source": [
    "df = pd.DataFrame(results)\n",
    "df.sort_values('id', inplace=True)\n",
    "df.reset_index(inplace=True, drop=True)"
   ]
  },
  {
   "cell_type": "markdown",
   "metadata": {},
   "source": [
    "## Parse data"
   ]
  },
  {
   "cell_type": "code",
   "execution_count": 16,
   "metadata": {
    "ExecuteTime": {
     "end_time": "2020-11-09T09:06:01.020250Z",
     "start_time": "2020-11-09T09:06:01.001656Z"
    }
   },
   "outputs": [],
   "source": [
    "# pull neighbourhood from address if not pulled from site\n",
    "df['neighbourhood_from_address'] = df['address'].str.split(\"\\n\").str.get(-1)\n",
    "df['neighbourhood'] = np.where(df.neighbourhood == 'NA',df['neighbourhood_from_address'], df['neighbourhood'])\n",
    "df['neighbourhood'] = np.where(df.neighbourhood == '',df['neighbourhood_from_address'], df['neighbourhood'])\n",
    "del df['neighbourhood_from_address']"
   ]
  },
  {
   "cell_type": "code",
   "execution_count": 17,
   "metadata": {
    "ExecuteTime": {
     "end_time": "2020-11-09T09:06:01.053763Z",
     "start_time": "2020-11-09T09:06:01.022782Z"
    }
   },
   "outputs": [],
   "source": [
    "# get street from address\n",
    "def get_street(s):\n",
    "    remove_digits = str.maketrans('', '', digits)\n",
    "    res = s.translate(remove_digits) \n",
    "    return res.strip()\n",
    "df['street'] = df['address'].str.split(\"\\n\").str.get(0)\n",
    "df['street'] = df['street'].apply(lambda x: get_street(x))"
   ]
  },
  {
   "cell_type": "markdown",
   "metadata": {},
   "source": [
    "## Compute ranks"
   ]
  },
  {
   "cell_type": "code",
   "execution_count": 18,
   "metadata": {
    "ExecuteTime": {
     "end_time": "2020-11-09T09:06:01.079932Z",
     "start_time": "2020-11-09T09:06:01.056190Z"
    }
   },
   "outputs": [],
   "source": [
    "# overall rank\n",
    "df['visits_rank_overall'] = df['visits'].rank(ascending=False).astype(int)\n",
    "\n",
    "# neighbourhood rank\n",
    "df[\"visits_rank_neighbourhood\"] = df.groupby(\"neighbourhood\")[\"visits\"].rank(\"dense\", ascending=False).astype(int)\n",
    "\n",
    "# street rank\n",
    "df[\"visits_rank_street\"] = df.groupby(\"street\")[\"visits\"].rank(\"dense\", ascending=False).astype(int)"
   ]
  },
  {
   "cell_type": "markdown",
   "metadata": {},
   "source": [
    "## Show parsed dataframe"
   ]
  },
  {
   "cell_type": "code",
   "execution_count": 19,
   "metadata": {
    "ExecuteTime": {
     "end_time": "2020-11-09T09:06:01.103825Z",
     "start_time": "2020-11-09T09:06:01.082632Z"
    }
   },
   "outputs": [
    {
     "data": {
      "text/html": [
       "<div>\n",
       "<style scoped>\n",
       "    .dataframe tbody tr th:only-of-type {\n",
       "        vertical-align: middle;\n",
       "    }\n",
       "\n",
       "    .dataframe tbody tr th {\n",
       "        vertical-align: top;\n",
       "    }\n",
       "\n",
       "    .dataframe thead th {\n",
       "        text-align: right;\n",
       "    }\n",
       "</style>\n",
       "<table border=\"1\" class=\"dataframe\">\n",
       "  <thead>\n",
       "    <tr style=\"text-align: right;\">\n",
       "      <th></th>\n",
       "      <th>id</th>\n",
       "      <th>description</th>\n",
       "      <th>address</th>\n",
       "      <th>neighbourhood</th>\n",
       "      <th>visits</th>\n",
       "      <th>location</th>\n",
       "      <th>size</th>\n",
       "      <th>area</th>\n",
       "      <th>build_height</th>\n",
       "      <th>elevation</th>\n",
       "      <th>volume</th>\n",
       "      <th>street</th>\n",
       "      <th>visits_rank_overall</th>\n",
       "      <th>visits_rank_neighbourhood</th>\n",
       "      <th>visits_rank_street</th>\n",
       "    </tr>\n",
       "  </thead>\n",
       "  <tbody>\n",
       "    <tr>\n",
       "      <th>0</th>\n",
       "      <td>1</td>\n",
       "      <td>Nick's parcel.</td>\n",
       "      <td>70 Block Fork\\nThe Center\\nOrigin City</td>\n",
       "      <td>The Center</td>\n",
       "      <td>66039</td>\n",
       "      <td>9E,11N,</td>\n",
       "      <td>13×18 metres</td>\n",
       "      <td>234</td>\n",
       "      <td>9</td>\n",
       "      <td>0 to 9 meters</td>\n",
       "      <td>16848</td>\n",
       "      <td>Block Fork</td>\n",
       "      <td>1</td>\n",
       "      <td>1</td>\n",
       "      <td>1</td>\n",
       "    </tr>\n",
       "    <tr>\n",
       "      <th>1</th>\n",
       "      <td>2</td>\n",
       "      <td>Welcome to Cryptovoxels! This build was done b...</td>\n",
       "      <td>72 Block Fork\\nThe Center\\nOrigin City</td>\n",
       "      <td>The Center</td>\n",
       "      <td>45086</td>\n",
       "      <td>11W,10N,</td>\n",
       "      <td>18×15 metres</td>\n",
       "      <td>270</td>\n",
       "      <td>8</td>\n",
       "      <td>0 to 8 meters</td>\n",
       "      <td>17280</td>\n",
       "      <td>Block Fork</td>\n",
       "      <td>2</td>\n",
       "      <td>2</td>\n",
       "      <td>2</td>\n",
       "    </tr>\n",
       "    <tr>\n",
       "      <th>2</th>\n",
       "      <td>3</td>\n",
       "      <td></td>\n",
       "      <td>74 Block Fork\\nThe Center\\nOrigin City</td>\n",
       "      <td>The Center</td>\n",
       "      <td>25316</td>\n",
       "      <td>14E,8S,</td>\n",
       "      <td>23×13 metres</td>\n",
       "      <td>299</td>\n",
       "      <td>13</td>\n",
       "      <td>0 to 13 meters</td>\n",
       "      <td>31096</td>\n",
       "      <td>Block Fork</td>\n",
       "      <td>4</td>\n",
       "      <td>4</td>\n",
       "      <td>4</td>\n",
       "    </tr>\n",
       "    <tr>\n",
       "      <th>3</th>\n",
       "      <td>4</td>\n",
       "      <td></td>\n",
       "      <td>75 Block Fork\\nThe Center\\nOrigin City</td>\n",
       "      <td>The Center</td>\n",
       "      <td>30591</td>\n",
       "      <td>12W,12S,</td>\n",
       "      <td>21×20 metres</td>\n",
       "      <td>420</td>\n",
       "      <td>13</td>\n",
       "      <td>0 to 13 meters</td>\n",
       "      <td>43680</td>\n",
       "      <td>Block Fork</td>\n",
       "      <td>3</td>\n",
       "      <td>3</td>\n",
       "      <td>3</td>\n",
       "    </tr>\n",
       "    <tr>\n",
       "      <th>4</th>\n",
       "      <td>5</td>\n",
       "      <td></td>\n",
       "      <td>76 Block Fork\\nThe Center\\nOrigin City</td>\n",
       "      <td>The Center</td>\n",
       "      <td>15559</td>\n",
       "      <td>7E,24S,</td>\n",
       "      <td>10×10 metres</td>\n",
       "      <td>100</td>\n",
       "      <td>6</td>\n",
       "      <td>0 to 6 meters</td>\n",
       "      <td>4800</td>\n",
       "      <td>Block Fork</td>\n",
       "      <td>8</td>\n",
       "      <td>8</td>\n",
       "      <td>8</td>\n",
       "    </tr>\n",
       "  </tbody>\n",
       "</table>\n",
       "</div>"
      ],
      "text/plain": [
       "   id                                        description  \\\n",
       "0   1                                     Nick's parcel.   \n",
       "1   2  Welcome to Cryptovoxels! This build was done b...   \n",
       "2   3                                                      \n",
       "3   4                                                      \n",
       "4   5                                                      \n",
       "\n",
       "                                  address neighbourhood  visits  location  \\\n",
       "0  70 Block Fork\\nThe Center\\nOrigin City   The Center    66039   9E,11N,   \n",
       "1  72 Block Fork\\nThe Center\\nOrigin City   The Center    45086  11W,10N,   \n",
       "2  74 Block Fork\\nThe Center\\nOrigin City   The Center    25316   14E,8S,   \n",
       "3  75 Block Fork\\nThe Center\\nOrigin City   The Center    30591  12W,12S,   \n",
       "4  76 Block Fork\\nThe Center\\nOrigin City   The Center    15559   7E,24S,   \n",
       "\n",
       "           size  area  build_height       elevation  volume      street  \\\n",
       "0  13×18 metres   234             9   0 to 9 meters   16848  Block Fork   \n",
       "1  18×15 metres   270             8   0 to 8 meters   17280  Block Fork   \n",
       "2  23×13 metres   299            13  0 to 13 meters   31096  Block Fork   \n",
       "3  21×20 metres   420            13  0 to 13 meters   43680  Block Fork   \n",
       "4  10×10 metres   100             6   0 to 6 meters    4800  Block Fork   \n",
       "\n",
       "   visits_rank_overall  visits_rank_neighbourhood  visits_rank_street  \n",
       "0                    1                          1                   1  \n",
       "1                    2                          2                   2  \n",
       "2                    4                          4                   4  \n",
       "3                    3                          3                   3  \n",
       "4                    8                          8                   8  "
      ]
     },
     "execution_count": 19,
     "metadata": {},
     "output_type": "execute_result"
    }
   ],
   "source": [
    "df.head()"
   ]
  },
  {
   "cell_type": "code",
   "execution_count": 20,
   "metadata": {
    "ExecuteTime": {
     "end_time": "2020-11-09T09:06:01.129275Z",
     "start_time": "2020-11-09T09:06:01.106689Z"
    }
   },
   "outputs": [
    {
     "data": {
      "text/html": [
       "<div>\n",
       "<style scoped>\n",
       "    .dataframe tbody tr th:only-of-type {\n",
       "        vertical-align: middle;\n",
       "    }\n",
       "\n",
       "    .dataframe tbody tr th {\n",
       "        vertical-align: top;\n",
       "    }\n",
       "\n",
       "    .dataframe thead th {\n",
       "        text-align: right;\n",
       "    }\n",
       "</style>\n",
       "<table border=\"1\" class=\"dataframe\">\n",
       "  <thead>\n",
       "    <tr style=\"text-align: right;\">\n",
       "      <th></th>\n",
       "      <th>id</th>\n",
       "      <th>description</th>\n",
       "      <th>address</th>\n",
       "      <th>neighbourhood</th>\n",
       "      <th>visits</th>\n",
       "      <th>location</th>\n",
       "      <th>size</th>\n",
       "      <th>area</th>\n",
       "      <th>build_height</th>\n",
       "      <th>elevation</th>\n",
       "      <th>volume</th>\n",
       "      <th>street</th>\n",
       "      <th>visits_rank_overall</th>\n",
       "      <th>visits_rank_neighbourhood</th>\n",
       "      <th>visits_rank_street</th>\n",
       "    </tr>\n",
       "  </thead>\n",
       "  <tbody>\n",
       "    <tr>\n",
       "      <th>4053</th>\n",
       "      <td>4084</td>\n",
       "      <td></td>\n",
       "      <td>2 Dessauer Straße\\nBerlin</td>\n",
       "      <td>Berlin</td>\n",
       "      <td>223</td>\n",
       "      <td>744W,590S,</td>\n",
       "      <td>11×15 metres</td>\n",
       "      <td>165</td>\n",
       "      <td>14</td>\n",
       "      <td>0 to 14 meters</td>\n",
       "      <td>18480</td>\n",
       "      <td>Dessauer Straße</td>\n",
       "      <td>3676</td>\n",
       "      <td>66</td>\n",
       "      <td>1</td>\n",
       "    </tr>\n",
       "    <tr>\n",
       "      <th>4054</th>\n",
       "      <td>4085</td>\n",
       "      <td></td>\n",
       "      <td>21 Bergmannstraße\\nBerlin</td>\n",
       "      <td>Berlin</td>\n",
       "      <td>91</td>\n",
       "      <td>592W,745S,</td>\n",
       "      <td>12×9 metres</td>\n",
       "      <td>108</td>\n",
       "      <td>17</td>\n",
       "      <td>0 to 17 meters</td>\n",
       "      <td>14688</td>\n",
       "      <td>Bergmannstraße</td>\n",
       "      <td>4009</td>\n",
       "      <td>105</td>\n",
       "      <td>14</td>\n",
       "    </tr>\n",
       "    <tr>\n",
       "      <th>4055</th>\n",
       "      <td>4086</td>\n",
       "      <td></td>\n",
       "      <td>1 Schleusenufer\\nBerlin</td>\n",
       "      <td>Berlin</td>\n",
       "      <td>135</td>\n",
       "      <td>687W,533S,</td>\n",
       "      <td>14×7 metres</td>\n",
       "      <td>98</td>\n",
       "      <td>17</td>\n",
       "      <td>0 to 17 meters</td>\n",
       "      <td>13328</td>\n",
       "      <td>Schleusenufer</td>\n",
       "      <td>3911</td>\n",
       "      <td>86</td>\n",
       "      <td>7</td>\n",
       "    </tr>\n",
       "    <tr>\n",
       "      <th>4056</th>\n",
       "      <td>4087</td>\n",
       "      <td></td>\n",
       "      <td>4 Mehringdamm\\nBerlin</td>\n",
       "      <td>Berlin</td>\n",
       "      <td>128</td>\n",
       "      <td>727W,562S,</td>\n",
       "      <td>18×12 metres</td>\n",
       "      <td>216</td>\n",
       "      <td>8</td>\n",
       "      <td>0 to 8 meters</td>\n",
       "      <td>13824</td>\n",
       "      <td>Mehringdamm</td>\n",
       "      <td>3932</td>\n",
       "      <td>89</td>\n",
       "      <td>1</td>\n",
       "    </tr>\n",
       "    <tr>\n",
       "      <th>4057</th>\n",
       "      <td>4088</td>\n",
       "      <td></td>\n",
       "      <td>18 Bergmannstraße\\nBerlin</td>\n",
       "      <td>Berlin</td>\n",
       "      <td>283</td>\n",
       "      <td>573W,736S,</td>\n",
       "      <td>18×14 metres</td>\n",
       "      <td>252</td>\n",
       "      <td>15</td>\n",
       "      <td>0 to 15 meters</td>\n",
       "      <td>30240</td>\n",
       "      <td>Bergmannstraße</td>\n",
       "      <td>3472</td>\n",
       "      <td>55</td>\n",
       "      <td>5</td>\n",
       "    </tr>\n",
       "  </tbody>\n",
       "</table>\n",
       "</div>"
      ],
      "text/plain": [
       "        id description                    address neighbourhood  visits  \\\n",
       "4053  4084              2 Dessauer Straße\\nBerlin        Berlin     223   \n",
       "4054  4085              21 Bergmannstraße\\nBerlin        Berlin      91   \n",
       "4055  4086                1 Schleusenufer\\nBerlin        Berlin     135   \n",
       "4056  4087                  4 Mehringdamm\\nBerlin        Berlin     128   \n",
       "4057  4088              18 Bergmannstraße\\nBerlin        Berlin     283   \n",
       "\n",
       "        location          size  area  build_height       elevation  volume  \\\n",
       "4053  744W,590S,  11×15 metres   165            14  0 to 14 meters   18480   \n",
       "4054  592W,745S,   12×9 metres   108            17  0 to 17 meters   14688   \n",
       "4055  687W,533S,   14×7 metres    98            17  0 to 17 meters   13328   \n",
       "4056  727W,562S,  18×12 metres   216             8   0 to 8 meters   13824   \n",
       "4057  573W,736S,  18×14 metres   252            15  0 to 15 meters   30240   \n",
       "\n",
       "               street  visits_rank_overall  visits_rank_neighbourhood  \\\n",
       "4053  Dessauer Straße                 3676                         66   \n",
       "4054   Bergmannstraße                 4009                        105   \n",
       "4055    Schleusenufer                 3911                         86   \n",
       "4056      Mehringdamm                 3932                         89   \n",
       "4057   Bergmannstraße                 3472                         55   \n",
       "\n",
       "      visits_rank_street  \n",
       "4053                   1  \n",
       "4054                  14  \n",
       "4055                   7  \n",
       "4056                   1  \n",
       "4057                   5  "
      ]
     },
     "execution_count": 20,
     "metadata": {},
     "output_type": "execute_result"
    }
   ],
   "source": [
    "df.tail()"
   ]
  },
  {
   "cell_type": "markdown",
   "metadata": {},
   "source": [
    "## Save CSV for other people to analyse"
   ]
  },
  {
   "cell_type": "code",
   "execution_count": 21,
   "metadata": {
    "ExecuteTime": {
     "end_time": "2020-11-09T09:06:01.188339Z",
     "start_time": "2020-11-09T09:06:01.134901Z"
    }
   },
   "outputs": [],
   "source": [
    "filename = \"cryptovoxels_\" + str(datetime.datetime.now()).split('.')[0] + '.csv'\n",
    "filename = filename.replace(':','-')\n",
    "df.to_csv(filename)"
   ]
  },
  {
   "cell_type": "markdown",
   "metadata": {},
   "source": [
    "# Analysis"
   ]
  },
  {
   "cell_type": "markdown",
   "metadata": {},
   "source": [
    "## how many plots are there per neighbourhood?"
   ]
  },
  {
   "cell_type": "code",
   "execution_count": 22,
   "metadata": {
    "ExecuteTime": {
     "end_time": "2020-11-09T09:06:01.631861Z",
     "start_time": "2020-11-09T09:06:01.193939Z"
    }
   },
   "outputs": [
    {
     "data": {
      "text/plain": [
       "Text(0.5, 0, 'Neighbourhood')"
      ]
     },
     "execution_count": 22,
     "metadata": {},
     "output_type": "execute_result"
    },
    {
     "data": {
      "image/png": "[encoded data removed]",
      "text/plain": [
       "<Figure size 1080x360 with 1 Axes>"
      ]
     },
     "metadata": {},
     "output_type": "display_data"
    }
   ],
   "source": [
    "sns.set(rc={'figure.figsize':(15,5)})\n",
    "ax = df['neighbourhood'].value_counts().plot(kind='bar')\n",
    "ax.set_title(\"Number of plots per cryptovoxels neighbourhood\", fontsize=20)\n",
    "ax.set_ylabel('Number of plots', fontsize=15)\n",
    "ax.set_xlabel('Neighbourhood', fontsize=15)"
   ]
  },
  {
   "cell_type": "markdown",
   "metadata": {},
   "source": [
    "## What are the most popular neighbourhoods ranked on visits?"
   ]
  },
  {
   "cell_type": "code",
   "execution_count": null,
   "metadata": {
    "ExecuteTime": {
     "start_time": "2020-11-09T09:06:00.548Z"
    }
   },
   "outputs": [
    {
     "data": {
      "text/plain": [
       "Text(0.5, 0, 'Neighbourhood')"
      ]
     },
     "execution_count": 23,
     "metadata": {},
     "output_type": "execute_result"
    }
   ],
   "source": [
    "sns.set(rc={'figure.figsize':(15,5)})\n",
    "ax = df.groupby(\"neighbourhood\").agg(sum)['visits'].sort_values(ascending=False).plot(kind='bar')\n",
    "ax.set_title(\"Total visits per cryptovoxels neighbourhood\", fontsize=20)\n",
    "ax.set_ylabel('Total visits', fontsize=15)\n",
    "ax.set_xlabel('Neighbourhood', fontsize=15)"
   ]
  },
  {
   "cell_type": "markdown",
   "metadata": {},
   "source": [
    "## What are the most popular streets ranked on visits?"
   ]
  },
  {
   "cell_type": "code",
   "execution_count": null,
   "metadata": {
    "ExecuteTime": {
     "start_time": "2020-11-09T09:06:00.549Z"
    }
   },
   "outputs": [],
   "source": [
    "sns.set(rc={'figure.figsize':(15,5)})\n",
    "ax = df.groupby(\"street\").agg(sum)['visits'].sort_values(ascending=False).head(50).plot(kind='bar')\n",
    "ax.set_title(\"Total visits per cryptovoxels street (top 50)\", fontsize=20)\n",
    "ax.set_ylabel('Total visits', fontsize=15)\n",
    "ax.set_xlabel('Street', fontsize=15)"
   ]
  },
  {
   "cell_type": "markdown",
   "metadata": {},
   "source": [
    "## Which neighbourhood has the largest parcels on average?"
   ]
  },
  {
   "cell_type": "code",
   "execution_count": null,
   "metadata": {
    "ExecuteTime": {
     "start_time": "2020-11-09T09:06:00.551Z"
    }
   },
   "outputs": [],
   "source": [
    "sns.set(rc={'figure.figsize':(15,5)})\n",
    "ax = df.groupby('neighbourhood').agg(np.mean)['area'].sort_values(ascending=False).plot(kind=\"bar\")\n",
    "ax.set_title('Average parcel area per cryptovoxels neighbourhood', fontsize=20)\n",
    "ax.set_ylabel('Average parcel area (sq meters)', fontsize=15)\n",
    "ax.set_xlabel('neighbourhood', fontsize=15)"
   ]
  },
  {
   "cell_type": "markdown",
   "metadata": {},
   "source": [
    "## Which neighbourhood has the highest build heights on average?"
   ]
  },
  {
   "cell_type": "code",
   "execution_count": null,
   "metadata": {
    "ExecuteTime": {
     "start_time": "2020-11-09T09:06:00.553Z"
    }
   },
   "outputs": [],
   "source": [
    "sns.set(rc={'figure.figsize':(15,5)})\n",
    "ax = df.groupby('neighbourhood').agg(np.mean)['build_height'].sort_values(ascending=False).plot(kind=\"bar\")\n",
    "ax.set_title('Average parcel build height per cryptovoxels neighbourhood', fontsize=20)\n",
    "ax.set_ylabel('Average build height (meters)', fontsize=15)\n",
    "ax.set_xlabel('neighbourhood', fontsize=15)"
   ]
  },
  {
   "cell_type": "markdown",
   "metadata": {},
   "source": [
    "## How do visits relate to parcel area?"
   ]
  },
  {
   "cell_type": "code",
   "execution_count": null,
   "metadata": {
    "ExecuteTime": {
     "start_time": "2020-11-09T09:06:00.554Z"
    }
   },
   "outputs": [],
   "source": [
    "df['log_visits'] = np.log(df['visits'])\n",
    "\n",
    "sns.set(rc={'figure.figsize':(15,12)})\n",
    "ax = sns.scatterplot(data=df, x=\"area\", y=\"log_visits\", hue=\"neighbourhood\")\n",
    "ax.set_title('Plot visits vs. area', fontsize=20)\n",
    "ax.set_ylabel('Log Visits', fontsize=15)\n",
    "ax.set_xlabel('Parcel area (square meters)', fontsize=15)\n",
    "plt.legend(bbox_to_anchor=(1.05, 1), loc=0, borderaxespad=0.)"
   ]
  },
  {
   "cell_type": "markdown",
   "metadata": {},
   "source": [
    "> Not much correlation between parcel size and number of visits"
   ]
  },
  {
   "cell_type": "markdown",
   "metadata": {},
   "source": [
    "## How do visits relate to the order in which parcels were minted?"
   ]
  },
  {
   "cell_type": "code",
   "execution_count": null,
   "metadata": {
    "ExecuteTime": {
     "start_time": "2020-11-09T09:06:00.556Z"
    }
   },
   "outputs": [],
   "source": [
    "sns.set(rc={'figure.figsize':(15,12)})\n",
    "ax = sns.scatterplot(data=df, x=\"id\", y=\"log_visits\", hue=\"neighbourhood\")\n",
    "ax.set_title('Cryptovoxels.com parcel visits vs. parcel id (order in which it was minted)', fontsize=20)\n",
    "ax.set_ylabel('Log Visits', fontsize=15)\n",
    "ax.set_xlabel('parcel id (mint order)', fontsize=15)\n",
    "plt.legend(bbox_to_anchor=(1.05, 1), loc=0, borderaxespad=0.)"
   ]
  },
  {
   "cell_type": "markdown",
   "metadata": {},
   "source": [
    "> The center has the most visits and the newer neighbourhoods have fewer visits on average as expected"
   ]
  },
  {
   "cell_type": "markdown",
   "metadata": {},
   "source": [
    "## What are the top 5 parcels in each neighbourhood ranked on visits?"
   ]
  },
  {
   "cell_type": "code",
   "execution_count": null,
   "metadata": {
    "ExecuteTime": {
     "start_time": "2020-11-09T09:06:00.558Z"
    }
   },
   "outputs": [],
   "source": [
    "neighbourhoods = list(df['neighbourhood'].unique())\n",
    "neighbourhoods.sort()"
   ]
  },
  {
   "cell_type": "code",
   "execution_count": null,
   "metadata": {
    "ExecuteTime": {
     "start_time": "2020-11-09T09:06:00.560Z"
    },
    "scrolled": false
   },
   "outputs": [],
   "source": [
    "for neighbourhood in neighbourhoods:\n",
    "    dft = df[df['neighbourhood'] == neighbourhood].sort_values('visits_rank_neighbourhood')[['id','visits','visits_rank_overall','visits_rank_neighbourhood']].head(5).reset_index()\n",
    "    print(f\"######################  Top 5 parcels in {neighbourhood.upper()} ######################\")\n",
    "    print(dft)\n",
    "    print(\"\")"
   ]
  },
  {
   "cell_type": "markdown",
   "metadata": {},
   "source": [
    "## What are the top 5 most popular streets per neighbourhood?"
   ]
  },
  {
   "cell_type": "code",
   "execution_count": null,
   "metadata": {
    "ExecuteTime": {
     "start_time": "2020-11-09T09:06:00.567Z"
    },
    "scrolled": false
   },
   "outputs": [],
   "source": [
    "# group\n",
    "dft = pd.DataFrame(df.groupby([\"neighbourhood\",\"street\"]).agg(sum)['visits'])\n",
    "dft.reset_index(level=0, inplace=True)\n",
    "dft.reset_index(level=0, inplace=True)\n",
    "dft.sort_values([\"neighbourhood\",'visits'], ascending=False, inplace=True)\n",
    "\n",
    "# loop to get top 5 in each neighbourhood - could probably do this in groupby \n",
    "cols = dft.columns\n",
    "previous_neighbourhood = \"\"\n",
    "count = 0\n",
    "top5 = []\n",
    "for i, r in enumerate(dft.values):\n",
    "    \n",
    "    row = dict(zip(cols, r))\n",
    "    \n",
    "    if row['neighbourhood'] == previous_neighbourhood:\n",
    "        if count < 5:\n",
    "            top5.append(row)\n",
    "            count+=1\n",
    "    else:\n",
    "        count = 0\n",
    "            \n",
    "    previous_neighbourhood = row['neighbourhood']\n",
    "\n",
    "# convert to dataframe\n",
    "dft = pd.DataFrame(top5)\n",
    "dft.sort_values([\"neighbourhood\", \"visits\"], ascending=[True,False], inplace=True)\n",
    "dft = dft[['neighbourhood','street','visits']]\n",
    "\n",
    "# compute neighbourhood rank\n",
    "dft[\"rank\"] = dft.groupby(\"neighbourhood\")[\"visits\"].rank(\"dense\", ascending=False).astype(int)\n",
    "\n",
    "# return\n",
    "pd.options.display.max_rows = len(df)\n",
    "dft.head(len(df))"
   ]
  },
  {
   "cell_type": "markdown",
   "metadata": {},
   "source": [
    "## Want more analysis? "
   ]
  },
  {
   "cell_type": "markdown",
   "metadata": {},
   "source": [
    "> ping me on Twitter:\n",
    "> [https://twitter.com/alxcnwy](https://twitter.com/alxcnwy)"
   ]
  }
 ],
 "metadata": {
  "kernelspec": {
   "display_name": "Python 3",
   "language": "python",
   "name": "python3"
  },
  "language_info": {
   "codemirror_mode": {
    "name": "ipython",
    "version": 3
   },
   "file_extension": ".py",
   "mimetype": "text/x-python",
   "name": "python",
   "nbconvert_exporter": "python",
   "pygments_lexer": "ipython3",
   "version": "3.7.7"
  },
  "varInspector": {
   "cols": {
    "lenName": 16,
    "lenType": 16,
    "lenVar": 40
   },
   "kernels_config": {
    "python": {
     "delete_cmd_postfix": "",
     "delete_cmd_prefix": "del ",
     "library": "var_list.py",
     "varRefreshCmd": "print(var_dic_list())"
    },
    "r": {
     "delete_cmd_postfix": ") ",
     "delete_cmd_prefix": "rm(",
     "library": "var_list.r",
     "varRefreshCmd": "cat(var_dic_list()) "
    }
   },
   "types_to_exclude": [
    "module",
    "function",
    "builtin_function_or_method",
    "instance",
    "_Feature"
   ],
   "window_display": false
  }
 },
 "nbformat": 4,
 "nbformat_minor": 4
}
